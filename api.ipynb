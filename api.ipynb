{
 "cells": [
  {
   "cell_type": "code",
   "execution_count": null,
   "metadata": {},
   "outputs": [],
   "source": [
    "import pandas as pd\n",
    "import io\n",
    "import os\n",
    "from ML_patch import *\n",
    "\n",
    "data_ = \"id,subject,relation,object\\n001,France,capital city of,Paris\"\n",
    "bytes_io = io.StringIO(data_)\n",
    "df = pd.read_csv(bytes_io, sep=\",\")\n",
    "result = Ml_patch(model_name= \"/data3/MODELS/gpt-j-6b\" , data = df, only_final_result= False)\n",
    "result.to_csv(\"./patch.tsv\", sep=\"\\t\", index=False)\n",
    "result.to_pkl(\"./patch.pkl\")\n"
   ]
  }
 ],
 "metadata": {
  "kernelspec": {
   "display_name": "NLP",
   "language": "python",
   "name": "python3"
  },
  "language_info": {
   "codemirror_mode": {
    "name": "ipython",
    "version": 3
   },
   "file_extension": ".py",
   "mimetype": "text/x-python",
   "name": "python",
   "nbconvert_exporter": "python",
   "pygments_lexer": "ipython3",
   "version": "3.10.13"
  }
 },
 "nbformat": 4,
 "nbformat_minor": 2
}
